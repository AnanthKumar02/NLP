{
 "cells": [
  {
   "cell_type": "code",
   "execution_count": 1,
   "id": "d4fe4664-b4f6-4ea3-b7a2-4617bc093000",
   "metadata": {},
   "outputs": [],
   "source": [
    "#pip install gTTS"
   ]
  },
  {
   "cell_type": "code",
   "execution_count": 2,
   "id": "8f73466b-34d3-4e25-8fb7-d3b65ba2d5ad",
   "metadata": {},
   "outputs": [],
   "source": [
    "from gtts import gTTS"
   ]
  },
  {
   "cell_type": "code",
   "execution_count": 3,
   "id": "a3777165-e7e8-4628-a2a1-f99cda0ae1a9",
   "metadata": {},
   "outputs": [],
   "source": [
    "convert=gTTS(text='I like this NLP. How about dude!', lang=\"en\",slow=False)\n",
    "convert.save(\"audio.mp3\")"
   ]
  },
  {
   "cell_type": "code",
   "execution_count": 4,
   "id": "5ce45e54-6a71-423c-b769-0361e70e8808",
   "metadata": {},
   "outputs": [],
   "source": [
    "#pip install pyttsx3"
   ]
  },
  {
   "cell_type": "code",
   "execution_count": 5,
   "id": "ae793f28-e335-4f06-b231-318f1530687a",
   "metadata": {},
   "outputs": [],
   "source": [
    "import pyttsx3,time\n",
    "engine=pyttsx3.init()\n",
    "engine.say(\"Hi, I am text to speech\")\n",
    "engine.runAndWait()"
   ]
  },
  {
   "cell_type": "code",
   "execution_count": 6,
   "id": "fe7c825b-e3bf-4418-9f07-f6bd5d42f399",
   "metadata": {},
   "outputs": [],
   "source": [
    "text=[\n",
    "    'This is introduction to NLP','It is likely to be useful, to people',\\\n",
    "    'Machine learning is the new electricity','There would be less hype around AI and more action going forward',\\\n",
    "    'python is the best tool!','R is good language','I like this book',\\\n",
    "    'I want more books like this'\n",
    "]"
   ]
  },
  {
   "cell_type": "code",
   "execution_count": 7,
   "id": "0f890658-6fbf-4845-a1de-98e417bfac38",
   "metadata": {},
   "outputs": [],
   "source": [
    "\n",
    "import pyttsx3\n",
    "engine=pyttsx3.init()\n",
    "engine.say(text)\n",
    "engine.runAndWait()"
   ]
  },
  {
   "cell_type": "code",
   "execution_count": 8,
   "id": "cdfb155a-26f7-41e7-8d01-fa32ded4a330",
   "metadata": {},
   "outputs": [
    {
     "name": "stdout",
     "output_type": "stream",
     "text": [
      "200\n",
      "1.0\n"
     ]
    }
   ],
   "source": [
    "import pyttsx3\n",
    "engine=pyttsx3.init()\n",
    "\n",
    "\"\"\"RATE\"\"\"\n",
    "rate=engine.getProperty('rate')\n",
    "print(rate)\n",
    "engine.setProperty('rate',180)\n",
    "\n",
    "\"\"\"VOLUME\"\"\"\n",
    "volume=engine.getProperty('volume')\n",
    "print(volume)\n",
    "engine.setProperty('volume',1.0)\n",
    "\n",
    "\"\"\"VOICE\"\"\"\n",
    "voices=engine.getProperty('voices')\n",
    "engine.setProperty('voice',voices[1].id)\n",
    "\n",
    "engine.say(\"Hello World!\")\n",
    "engine.say('My current speaking rate is '+str(rate))\n",
    "engine.say('My current speaking volume is '+str(volume))\n",
    "engine.runAndWait()\n",
    "engine.stop()\n"
   ]
  },
  {
   "cell_type": "code",
   "execution_count": 9,
   "id": "5510a2ee-486d-4b71-8ed2-72e9bbdefe4e",
   "metadata": {},
   "outputs": [],
   "source": [
    "#pip install translate"
   ]
  },
  {
   "cell_type": "code",
   "execution_count": 10,
   "id": "55163069-d7d3-4413-b554-e92a3591dacb",
   "metadata": {},
   "outputs": [
    {
     "data": {
      "text/plain": [
       "'ఎలా ఉనారు ?'"
      ]
     },
     "execution_count": 10,
     "metadata": {},
     "output_type": "execute_result"
    }
   ],
   "source": [
    "from translate import Translator\n",
    "translator=Translator(to_lang=\"te\")\n",
    "translation=translator.translate(\"How are you?\")\n",
    "translation"
   ]
  },
  {
   "cell_type": "code",
   "execution_count": 11,
   "id": "4470418c-f9f6-470a-9946-944aa4c71ea6",
   "metadata": {},
   "outputs": [
    {
     "data": {
      "text/plain": [
       "'お元気ですか？'"
      ]
     },
     "execution_count": 11,
     "metadata": {},
     "output_type": "execute_result"
    }
   ],
   "source": [
    "from translate import Translator\n",
    "translator=Translator(to_lang=\"ja\")\n",
    "translation=translator.translate(\"How are you?\")\n",
    "translation"
   ]
  },
  {
   "cell_type": "code",
   "execution_count": 12,
   "id": "d02c2c8b-0784-4805-876b-6fdfa88ee5b4",
   "metadata": {},
   "outputs": [
    {
     "data": {
      "text/plain": [
       "'உங்கள் மகள் எப்படி இருக்கிறார்?'"
      ]
     },
     "execution_count": 12,
     "metadata": {},
     "output_type": "execute_result"
    }
   ],
   "source": [
    "from translate import Translator\n",
    "translator=Translator(to_lang=\"ta\")\n",
    "translation=translator.translate(\"How are you?\")\n",
    "translation"
   ]
  },
  {
   "cell_type": "code",
   "execution_count": 13,
   "id": "0feb2b90-342c-47b4-9a8d-541fbdb8eda3",
   "metadata": {},
   "outputs": [
    {
     "data": {
      "text/plain": [
       "'Wie geht es dir?'"
      ]
     },
     "execution_count": 13,
     "metadata": {},
     "output_type": "execute_result"
    }
   ],
   "source": [
    "from translate import Translator\n",
    "translator=Translator(to_lang=\"de\")\n",
    "translation=translator.translate(\"How are you?\")\n",
    "translation"
   ]
  },
  {
   "cell_type": "code",
   "execution_count": 40,
   "id": "cc9dd6de-0f4d-4cff-8f40-359b905f0375",
   "metadata": {},
   "outputs": [
    {
     "name": "stdout",
     "output_type": "stream",
     "text": [
      "Requirement already satisfied: python-vlc in c:\\users\\anant\\anaconda3\\lib\\site-packages (3.0.21203)\n"
     ]
    }
   ],
   "source": [
    "!pip install python-vlc"
   ]
  },
  {
   "cell_type": "code",
   "execution_count": 42,
   "id": "e3110be9-6c90-42fe-bdb4-5439a7dab45f",
   "metadata": {},
   "outputs": [
    {
     "ename": "FileNotFoundError",
     "evalue": "Could not find module 'C:\\Users\\anant\\libvlc.dll' (or one of its dependencies). Try using the full path with constructor syntax.",
     "output_type": "error",
     "traceback": [
      "\u001b[1;31m---------------------------------------------------------------------------\u001b[0m",
      "\u001b[1;31mFileNotFoundError\u001b[0m                         Traceback (most recent call last)",
      "Cell \u001b[1;32mIn[42], line 1\u001b[0m\n\u001b[1;32m----> 1\u001b[0m \u001b[38;5;28;01mimport\u001b[39;00m \u001b[38;5;21;01mvlc\u001b[39;00m\n\u001b[0;32m      2\u001b[0m p\u001b[38;5;241m=\u001b[39mvlc\u001b[38;5;241m.\u001b[39mMediaPlayer(\u001b[38;5;124m'\u001b[39m\u001b[38;5;124maudio.mp3\u001b[39m\u001b[38;5;124m'\u001b[39m)\n\u001b[0;32m      3\u001b[0m p\u001b[38;5;241m.\u001b[39mplay()\n",
      "File \u001b[1;32m~\\anaconda3\\Lib\\site-packages\\vlc.py:197\u001b[0m\n\u001b[0;32m    193\u001b[0m     \u001b[38;5;28;01mreturn\u001b[39;00m (dll, plugin_path)\n\u001b[0;32m    196\u001b[0m \u001b[38;5;66;03m# plugin_path used on win32 and MacOS in override.py\u001b[39;00m\n\u001b[1;32m--> 197\u001b[0m dll, plugin_path \u001b[38;5;241m=\u001b[39m \u001b[43mfind_lib\u001b[49m\u001b[43m(\u001b[49m\u001b[43m)\u001b[49m\n\u001b[0;32m    200\u001b[0m \u001b[38;5;28;01mclass\u001b[39;00m \u001b[38;5;21;01mVLCException\u001b[39;00m(\u001b[38;5;167;01mException\u001b[39;00m):\n\u001b[0;32m    201\u001b[0m \u001b[38;5;250m    \u001b[39m\u001b[38;5;124;03m\"\"\"Exception raised by libvlc methods.\"\"\"\u001b[39;00m\n",
      "File \u001b[1;32m~\\anaconda3\\Lib\\site-packages\\vlc.py:156\u001b[0m, in \u001b[0;36mfind_lib\u001b[1;34m()\u001b[0m\n\u001b[0;32m    154\u001b[0m         os\u001b[38;5;241m.\u001b[39mchdir(p)\n\u001b[0;32m    155\u001b[0m     \u001b[38;5;28;01melse\u001b[39;00m:  \u001b[38;5;66;03m# may fail\u001b[39;00m\n\u001b[1;32m--> 156\u001b[0m         dll \u001b[38;5;241m=\u001b[39m \u001b[43mctypes\u001b[49m\u001b[38;5;241;43m.\u001b[39;49m\u001b[43mCDLL\u001b[49m\u001b[43m(\u001b[49m\u001b[38;5;124;43m\"\u001b[39;49m\u001b[38;5;124;43m.\u001b[39;49m\u001b[38;5;130;43;01m\\\\\u001b[39;49;00m\u001b[38;5;124;43m\"\u001b[39;49m\u001b[43m \u001b[49m\u001b[38;5;241;43m+\u001b[39;49m\u001b[43m \u001b[49m\u001b[43mlibname\u001b[49m\u001b[43m)\u001b[49m\n\u001b[0;32m    157\u001b[0m \u001b[38;5;28;01melse\u001b[39;00m:\n\u001b[0;32m    158\u001b[0m     plugin_path \u001b[38;5;241m=\u001b[39m os\u001b[38;5;241m.\u001b[39mpath\u001b[38;5;241m.\u001b[39mdirname(p)\n",
      "File \u001b[1;32m~\\anaconda3\\Lib\\ctypes\\__init__.py:379\u001b[0m, in \u001b[0;36mCDLL.__init__\u001b[1;34m(self, name, mode, handle, use_errno, use_last_error, winmode)\u001b[0m\n\u001b[0;32m    376\u001b[0m \u001b[38;5;28mself\u001b[39m\u001b[38;5;241m.\u001b[39m_FuncPtr \u001b[38;5;241m=\u001b[39m _FuncPtr\n\u001b[0;32m    378\u001b[0m \u001b[38;5;28;01mif\u001b[39;00m handle \u001b[38;5;129;01mis\u001b[39;00m \u001b[38;5;28;01mNone\u001b[39;00m:\n\u001b[1;32m--> 379\u001b[0m     \u001b[38;5;28mself\u001b[39m\u001b[38;5;241m.\u001b[39m_handle \u001b[38;5;241m=\u001b[39m \u001b[43m_dlopen\u001b[49m\u001b[43m(\u001b[49m\u001b[38;5;28;43mself\u001b[39;49m\u001b[38;5;241;43m.\u001b[39;49m\u001b[43m_name\u001b[49m\u001b[43m,\u001b[49m\u001b[43m \u001b[49m\u001b[43mmode\u001b[49m\u001b[43m)\u001b[49m\n\u001b[0;32m    380\u001b[0m \u001b[38;5;28;01melse\u001b[39;00m:\n\u001b[0;32m    381\u001b[0m     \u001b[38;5;28mself\u001b[39m\u001b[38;5;241m.\u001b[39m_handle \u001b[38;5;241m=\u001b[39m handle\n",
      "\u001b[1;31mFileNotFoundError\u001b[0m: Could not find module 'C:\\Users\\anant\\libvlc.dll' (or one of its dependencies). Try using the full path with constructor syntax."
     ]
    }
   ],
   "source": [
    "import vlc\n",
    "p=vlc.MediaPlayer('audio.mp3')\n",
    "p.play()"
   ]
  },
  {
   "cell_type": "code",
   "execution_count": 18,
   "id": "a0995008-8d02-46ef-81d6-d29f254a3206",
   "metadata": {},
   "outputs": [
    {
     "name": "stdout",
     "output_type": "stream",
     "text": [
      "Collecting playsoundNote: you may need to restart the kernel to use updated packages.\n",
      "\n",
      "  Downloading playsound-1.3.0.tar.gz (7.7 kB)\n",
      "  Preparing metadata (setup.py): started\n",
      "  Preparing metadata (setup.py): finished with status 'done'\n",
      "Building wheels for collected packages: playsound\n",
      "  Building wheel for playsound (setup.py): started\n",
      "  Building wheel for playsound (setup.py): finished with status 'done'\n",
      "  Created wheel for playsound: filename=playsound-1.3.0-py3-none-any.whl size=7044 sha256=22f3d60512877d775714b6d0006a81130cee912b0ebebdccf405a4a7bfd31725\n",
      "  Stored in directory: c:\\users\\anant\\appdata\\local\\pip\\cache\\wheels\\cf\\42\\ff\\7c587bae55eec67b909ca316b250d9b4daedbf272a3cbeb907\n",
      "Successfully built playsound\n",
      "Installing collected packages: playsound\n",
      "Successfully installed playsound-1.3.0\n"
     ]
    }
   ],
   "source": [
    "#pip install playsound"
   ]
  },
  {
   "cell_type": "code",
   "execution_count": 24,
   "id": "1686694e-0236-4fca-b1c8-a723f9ae7445",
   "metadata": {},
   "outputs": [
    {
     "name": "stdout",
     "output_type": "stream",
     "text": [
      "playing sound using playsound\n"
     ]
    }
   ],
   "source": [
    "import playsound as pl\n",
    "pl.playsound('audio.mp3')\n",
    "print('playing sound using playsound')"
   ]
  },
  {
   "cell_type": "code",
   "execution_count": 28,
   "id": "07269153-7bda-4b5d-9499-3746773a7f72",
   "metadata": {},
   "outputs": [
    {
     "data": {
      "text/plain": [
       "\u001b[1;31mSignature:\u001b[0m \u001b[0mpl\u001b[0m\u001b[1;33m.\u001b[0m\u001b[0mplaysound\u001b[0m\u001b[1;33m(\u001b[0m\u001b[0msound\u001b[0m\u001b[1;33m,\u001b[0m \u001b[0mblock\u001b[0m\u001b[1;33m=\u001b[0m\u001b[1;32mTrue\u001b[0m\u001b[1;33m)\u001b[0m\u001b[1;33m\u001b[0m\u001b[1;33m\u001b[0m\u001b[0m\n",
       "\u001b[1;31mDocstring:\u001b[0m\n",
       "Utilizes windll.winmm. Tested and known to work with MP3 and WAVE on\n",
       "Windows 7 with Python 2.7. Probably works with more file formats.\n",
       "Probably works on Windows XP thru Windows 10. Probably works with all\n",
       "versions of Python.\n",
       "\n",
       "Inspired by (but not copied from) Michael Gundlach <gundlach@gmail.com>'s mp3play:\n",
       "https://github.com/michaelgundlach/mp3play\n",
       "\n",
       "I never would have tried using windll.winmm without seeing his code.\n",
       "\u001b[1;31mFile:\u001b[0m      c:\\users\\anant\\anaconda3\\lib\\site-packages\\playsound.py\n",
       "\u001b[1;31mType:\u001b[0m      function"
      ]
     },
     "metadata": {},
     "output_type": "display_data"
    }
   ],
   "source": [
    "import playsound as pl\n",
    "pl.playsound?"
   ]
  },
  {
   "cell_type": "code",
   "execution_count": 44,
   "id": "002a8e9f-d6b1-4219-9858-9fc98b552215",
   "metadata": {},
   "outputs": [
    {
     "name": "stdout",
     "output_type": "stream",
     "text": [
      "Collecting SpeechRecognition\n",
      "  Downloading SpeechRecognition-3.14.1-py3-none-any.whl.metadata (31 kB)\n",
      "Requirement already satisfied: typing-extensions in c:\\users\\anant\\anaconda3\\lib\\site-packages (from SpeechRecognition) (4.11.0)\n",
      "Downloading SpeechRecognition-3.14.1-py3-none-any.whl (32.9 MB)\n",
      "   ---------------------------------------- 0.0/32.9 MB ? eta -:--:--\n",
      "   ------ --------------------------------- 5.2/32.9 MB 35.3 MB/s eta 0:00:01\n",
      "   ------------------ --------------------- 14.9/32.9 MB 40.8 MB/s eta 0:00:01\n",
      "   ------------------------- -------------- 21.0/32.9 MB 36.8 MB/s eta 0:00:01\n",
      "   ------------------------------- -------- 26.2/32.9 MB 33.9 MB/s eta 0:00:01\n",
      "   -------------------------------------- - 32.0/32.9 MB 32.2 MB/s eta 0:00:01\n",
      "   ---------------------------------------- 32.9/32.9 MB 29.8 MB/s eta 0:00:00\n",
      "Installing collected packages: SpeechRecognition\n",
      "Successfully installed SpeechRecognition-3.14.1\n",
      "Note: you may need to restart the kernel to use updated packages.\n"
     ]
    }
   ],
   "source": [
    "pip install SpeechRecognition"
   ]
  },
  {
   "cell_type": "code",
   "execution_count": 48,
   "id": "d6dcbc35-7af6-4b2c-bf1f-c53fc220eefc",
   "metadata": {},
   "outputs": [
    {
     "name": "stdout",
     "output_type": "stream",
     "text": [
      "Requirement already satisfied: PyAudio in c:\\users\\anant\\anaconda3\\lib\\site-packages (0.2.14)\n",
      "Note: you may need to restart the kernel to use updated packages.\n"
     ]
    }
   ],
   "source": [
    "pip install PyAudio"
   ]
  },
  {
   "cell_type": "code",
   "execution_count": 50,
   "id": "a9b11146-98d2-45c5-8037-a4a5b549eac5",
   "metadata": {},
   "outputs": [
    {
     "name": "stdout",
     "output_type": "stream",
     "text": [
      "Please say something\n"
     ]
    }
   ],
   "source": [
    "import speech_recognition as sr\n",
    "r=sr.Recognizer()\n",
    "with sr.Microphone() as source:\n",
    "    print(\"Please say something\")\n",
    "    audio=r.listen(source)\n",
    "try:\n",
    "    print(\"I think you said: \"+r.recognize_google(audio));\n",
    "except:\n",
    "    pass"
   ]
  },
  {
   "cell_type": "code",
   "execution_count": null,
   "id": "6e84ba85-36dd-4ebc-8a14-569fa01dcc12",
   "metadata": {},
   "outputs": [],
   "source": []
  }
 ],
 "metadata": {
  "kernelspec": {
   "display_name": "Python [conda env:base] *",
   "language": "python",
   "name": "conda-base-py"
  },
  "language_info": {
   "codemirror_mode": {
    "name": "ipython",
    "version": 3
   },
   "file_extension": ".py",
   "mimetype": "text/x-python",
   "name": "python",
   "nbconvert_exporter": "python",
   "pygments_lexer": "ipython3",
   "version": "3.12.7"
  }
 },
 "nbformat": 4,
 "nbformat_minor": 5
}
